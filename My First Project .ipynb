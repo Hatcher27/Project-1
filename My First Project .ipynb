{
 "cells": [
  {
   "cell_type": "markdown",
   "id": "70390b51-a525-425c-bf4f-2efb00995526",
   "metadata": {},
   "source": [
    "# My Jupyter Notebook on IBM Watson Studio"
   ]
  },
  {
   "cell_type": "markdown",
   "id": "488d8e44-4869-47ef-9a26-e7af378f57b8",
   "metadata": {},
   "source": [
    "**Mylene Varias**<br>\n",
    
   
  "Data Scientist" 
   ]
  },
  {
   "cell_type": "markdown",
   "id": "a5c911e4-7809-4ad3-95a6-97bb5e0a00d0",
   "metadata": {},
   "source": [
    "*Iam interested in Data Science because, it can be apply in various industry like marketing, healthcare, finance and even in the business.*"
   ]
  },
  {
   "cell_type": "markdown",
   "id": "ada48638-9c9e-4eb4-a072-da5015b50913",
   "metadata": {},
   "source": [
    "### This is the first python language for beginners "
   ]
  },
  {
   "cell_type": "code",
   "execution_count": 3,
   "id": "836b4c36-0497-4d9a-88cd-2fb3ae8edd6d",
   "metadata": {},
   "outputs": [
    {
     "name": "stdout",
     "output_type": "stream",
     "text": [
      "Hello World\n"
     ]
    }
   ],
   "source": [
    "print(\"Hello World\")"
   ]
  },
  {
   "cell_type": "markdown",
   "id": "01781fa1-4deb-4b0a-af4e-539b797ae7ec",
   "metadata": {},
   "source": [
    "***"
   ]
  },
  {
   "cell_type": "markdown",
   "id": "c760437e-0655-4321-b9ba-dc717c36b320",
   "metadata": {},
   "source": [
    "- python\n",
    "- java\n",
    "- R\n",
    "- SQL\n",
    "- HTML\n",
    "- CSS"
   ]
  },
  {
   "cell_type": "markdown",
   "id": "27a8d099-fb89-479b-a5bf-34ea7135c22d",
   "metadata": {
    "tags": []
   },
   "source": [
    "<img src=\"https://logos-world.net/wp-content/uploads/2021/10/Python-Symbol.png\" alt=\"Alt text that describes the graphic\" title=\"Pytho\" />"
   ]
  }
 ],
 "metadata": {
  "kernelspec": {
   "display_name": "Python",
   "language": "python",
   "name": "conda-env-python-py"
  },
  "language_info": {
   "codemirror_mode": {
    "name": "ipython",
    "version": 3
   },
   "file_extension": ".py",
   "mimetype": "text/x-python",
   "name": "python",
   "nbconvert_exporter": "python",
   "pygments_lexer": "ipython3",
   "version": "3.7.12"
  }
 },
 "nbformat": 4,
 "nbformat_minor": 5
}
